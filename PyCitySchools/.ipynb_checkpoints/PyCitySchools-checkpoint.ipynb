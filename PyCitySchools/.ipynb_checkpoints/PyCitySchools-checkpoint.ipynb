{
 "cells": [
  {
   "cell_type": "code",
   "execution_count": 56,
   "metadata": {},
   "outputs": [],
   "source": [
    "# Dependencies and Setup\n",
    "import pandas as pd\n",
    "\n",
    "# File to Load (Remember to Change These)\n",
    "school_data_to_load = \"C:\\\\Users\\\\tmlun\\\\pandas-challenge\\\\PyCitySchools\\\\Resources\\\\schools_complete.csv\"\n",
    "student_data_to_load = \"C:\\\\Users\\\\tmlun\\\\pandas-challenge\\\\PyCitySchools\\\\Resources\\\\students_complete.csv\"\n",
    "\n",
    "# Read School and Student Data File and store into Pandas DataFrames\n",
    "school_data = pd.read_csv(school_data_to_load)\n",
    "student_data = pd.read_csv(student_data_to_load)\n",
    "\n",
    "# Combine the data into a single dataset.  \n",
    "school_data_complete = pd.merge(student_data, school_data, on=[\"school_name\", \"school_name\"], how=\"left\")\n",
    " "
   ]
  },
  {
   "cell_type": "code",
   "execution_count": null,
   "metadata": {
    "scrolled": true
   },
   "outputs": [],
   "source": [
    "school_data_complete"
   ]
  },
  {
   "cell_type": "markdown",
   "metadata": {},
   "source": [
    "District Summary\n",
    "\n",
    "Calculate the total number of schools\n",
    "Calculate the total number of students\n",
    "Calculate the total budget\n",
    "Calculate the average math score \n",
    "Calculate the average reading score\n",
    "Calculate the percentage of students with a passing math score (70 or greater)\n",
    "Calculate the percentage of students with a passing reading score (70 or greater)\n",
    "Calculate the percentage of students who passed math and reading (% Overall Passing)\n",
    "Create a dataframe to hold the above results\n",
    "Optional: give the displayed data cleaner formatting"
   ]
  },
  {
   "cell_type": "code",
   "execution_count": 40,
   "metadata": {},
   "outputs": [
    {
     "name": "stdout",
     "output_type": "stream",
     "text": [
      "15\n",
      "39170\n",
      "24649428\n"
     ]
    }
   ],
   "source": [
    "number_of_schools=len(school_data_complete[\"School ID\"].unique())\n",
    "print(number_of_schools)\n",
    "number_of_students=school_data_complete[\"Student ID\"].count()\n",
    "print(number_of_students)\n",
    "total_budget=sum(school_data_complete[\"budget\"].unique())\n",
    "print(total_budget)\n"
   ]
  },
  {
   "cell_type": "code",
   "execution_count": 46,
   "metadata": {},
   "outputs": [
    {
     "name": "stdout",
     "output_type": "stream",
     "text": [
      "78.985371\n",
      "81.87784\n"
     ]
    }
   ],
   "source": [
    "avg_math_score=round(school_data_complete[\"math_score\"].sum()/number_of_students,6)\n",
    "print(avg_math_score)\n",
    "avg_read_score=round(school_data_complete[\"reading_score\"].sum()/number_of_students,6)\n",
    "print(avg_read_score)"
   ]
  },
  {
   "cell_type": "code",
   "execution_count": 17,
   "metadata": {},
   "outputs": [
    {
     "data": {
      "text/plain": [
       "dtype('int64')"
      ]
     },
     "execution_count": 17,
     "metadata": {},
     "output_type": "execute_result"
    }
   ],
   "source": [
    "math_score_count = school_data_complete[\"math_score\"].values\n",
    "math_score_count.dtype\n"
   ]
  },
  {
   "cell_type": "code",
   "execution_count": 50,
   "metadata": {},
   "outputs": [],
   "source": [
    "passing_math_count=[]\n",
    "for i in math_score_count:\n",
    "    if i >= 70:\n",
    "        passing_math_count.append(i)\n",
    "\n",
    "percent_passing_math = round(len(passing_math_count)/number_of_students*100,6)\n",
    "print(percent_passing_math)"
   ]
  },
  {
   "cell_type": "code",
   "execution_count": 52,
   "metadata": {},
   "outputs": [
    {
     "name": "stdout",
     "output_type": "stream",
     "text": [
      "74.980853\n"
     ]
    }
   ],
   "source": [
    "read_score_count = school_data_complete[\"reading_score\"].values\n",
    "passing_read_count=[]\n",
    "for i in read_score_count:\n",
    "    if i >= 70:\n",
    "        passing_read_count.append(i)\n",
    "        \n",
    "percent_passing_read=round(len(passing_read_count)/number_of_students*100,6)\n",
    "print(percent_passing_read)"
   ]
  },
  {
   "cell_type": "code",
   "execution_count": 54,
   "metadata": {},
   "outputs": [
    {
     "name": "stdout",
     "output_type": "stream",
     "text": [
      "85.805463\n"
     ]
    }
   ],
   "source": [
    "students_passing_count=[]\n",
    "for i in math_score_count:\n",
    "    if i >= 70:\n",
    "        for j in read_score_count:\n",
    "            if j >= 70:\n",
    "                students_passing_count.append(j)\n",
    "    \n",
    "percent_of_students_passed=round(len(students_passing_count)/number_of_students*100,6)\n",
    "print(percent_of_students_passed)"
   ]
  },
  {
   "cell_type": "code",
   "execution_count": 55,
   "metadata": {},
   "outputs": [
    {
     "ename": "MemoryError",
     "evalue": "",
     "output_type": "error",
     "traceback": [
      "\u001b[1;31m---------------------------------------------------------------------------\u001b[0m",
      "\u001b[1;31mMemoryError\u001b[0m                               Traceback (most recent call last)",
      "\u001b[1;32m<ipython-input-55-325e4abf281c>\u001b[0m in \u001b[0;36m<module>\u001b[1;34m\u001b[0m\n\u001b[0;32m      5\u001b[0m         \u001b[1;32mfor\u001b[0m \u001b[0mj\u001b[0m \u001b[1;32min\u001b[0m \u001b[0mread_score_count\u001b[0m\u001b[1;33m:\u001b[0m\u001b[1;33m\u001b[0m\u001b[1;33m\u001b[0m\u001b[0m\n\u001b[0;32m      6\u001b[0m             \u001b[1;32mif\u001b[0m \u001b[0mj\u001b[0m \u001b[1;33m>=\u001b[0m \u001b[1;36m70\u001b[0m\u001b[1;33m:\u001b[0m\u001b[1;33m\u001b[0m\u001b[1;33m\u001b[0m\u001b[0m\n\u001b[1;32m----> 7\u001b[1;33m                 \u001b[0mstudents_passing_count\u001b[0m\u001b[1;33m.\u001b[0m\u001b[0mappend\u001b[0m\u001b[1;33m(\u001b[0m\u001b[0mj\u001b[0m\u001b[1;33m)\u001b[0m\u001b[1;33m\u001b[0m\u001b[1;33m\u001b[0m\u001b[0m\n\u001b[0m\u001b[0;32m      8\u001b[0m \u001b[1;33m\u001b[0m\u001b[0m\n\u001b[0;32m      9\u001b[0m \u001b[0mpercent_of_students_passed\u001b[0m\u001b[1;33m=\u001b[0m\u001b[0mround\u001b[0m\u001b[1;33m(\u001b[0m\u001b[0mlen\u001b[0m\u001b[1;33m(\u001b[0m\u001b[0mstudents_passing_count\u001b[0m\u001b[1;33m)\u001b[0m\u001b[1;33m/\u001b[0m\u001b[0mnumber_of_students\u001b[0m\u001b[1;33m*\u001b[0m\u001b[1;36m100\u001b[0m\u001b[1;33m,\u001b[0m\u001b[1;36m6\u001b[0m\u001b[1;33m)\u001b[0m\u001b[1;33m\u001b[0m\u001b[1;33m\u001b[0m\u001b[0m\n",
      "\u001b[1;31mMemoryError\u001b[0m: "
     ]
    }
   ],
   "source": []
  },
  {
   "cell_type": "markdown",
   "metadata": {},
   "source": [
    "School Summary\n",
    " \n",
    "Create an overview table that summarizes key metrics about each school, including:\n",
    "School Name\n",
    "School Type\n",
    "Total Students\n",
    "Total School Budget\n",
    "Per Student Budget\n",
    "Average Math Score\n",
    "Average Reading Score\n",
    "% Passing Math\n",
    "% Passing Reading\n",
    "% Overall Passing (The percentage of students that passed math and reading.)\n",
    "\n",
    "\n",
    "Create a dataframe to hold the above results"
   ]
  },
  {
   "cell_type": "code",
   "execution_count": null,
   "metadata": {},
   "outputs": [],
   "source": []
  },
  {
   "cell_type": "markdown",
   "metadata": {},
   "source": [
    "Top Performing Schools (By % Overall Passing)\n",
    " \n",
    "Sort and display the top five performing schools by % overall passing."
   ]
  },
  {
   "cell_type": "code",
   "execution_count": null,
   "metadata": {},
   "outputs": [],
   "source": []
  },
  {
   "cell_type": "markdown",
   "metadata": {},
   "source": [
    "Bottom Performing Schools (By % Overall Passing)\n",
    " \n",
    "Sort and display the five worst-performing schools by % overall passing."
   ]
  },
  {
   "cell_type": "code",
   "execution_count": null,
   "metadata": {},
   "outputs": [],
   "source": []
  },
  {
   "cell_type": "markdown",
   "metadata": {},
   "source": [
    "Math Scores by Grade\n",
    " \n",
    "Create a table that lists the average Reading Score for students of each grade level (9th, 10th, 11th, 12th) at each school.\n",
    "Create a pandas series for each grade. Hint: use a conditional statement.\n",
    "Group each series by school\n",
    "Combine the series into a dataframe\n",
    "Optional: give the displayed data cleaner formatting"
   ]
  },
  {
   "cell_type": "code",
   "execution_count": null,
   "metadata": {},
   "outputs": [],
   "source": []
  },
  {
   "cell_type": "markdown",
   "metadata": {},
   "source": [
    "Reading Score by Grade\n",
    " \n",
    "Perform the same operations as above for reading scores"
   ]
  },
  {
   "cell_type": "code",
   "execution_count": null,
   "metadata": {},
   "outputs": [],
   "source": []
  },
  {
   "cell_type": "markdown",
   "metadata": {},
   "source": [
    "Scores by School Spending\n",
    " \n",
    "Create a table that breaks down school performances based on average Spending Ranges (Per Student). Use 4 reasonable bins to group school spending. Include in the table each of the following:\n",
    "Average Math Score\n",
    "Average Reading Score\n",
    "% Passing Math\n",
    "% Passing Reading\n",
    "Overall Passing Rate (Average of the above two)"
   ]
  },
  {
   "cell_type": "code",
   "execution_count": null,
   "metadata": {},
   "outputs": [],
   "source": []
  },
  {
   "cell_type": "markdown",
   "metadata": {},
   "source": [
    "Scores by School Size\n",
    " \n",
    "Perform the same operations as above, based on school size."
   ]
  },
  {
   "cell_type": "code",
   "execution_count": null,
   "metadata": {},
   "outputs": [],
   "source": []
  },
  {
   "cell_type": "markdown",
   "metadata": {},
   "source": [
    "Scores by School Type\n",
    " \n",
    "Perform the same operations as above, based on school type"
   ]
  }
 ],
 "metadata": {
  "kernelspec": {
   "display_name": "Python 3",
   "language": "python",
   "name": "python3"
  },
  "language_info": {
   "codemirror_mode": {
    "name": "ipython",
    "version": 3
   },
   "file_extension": ".py",
   "mimetype": "text/x-python",
   "name": "python",
   "nbconvert_exporter": "python",
   "pygments_lexer": "ipython3",
   "version": "3.8.3"
  }
 },
 "nbformat": 4,
 "nbformat_minor": 4
}
