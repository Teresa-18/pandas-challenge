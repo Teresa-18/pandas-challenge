{
 "cells": [
  {
   "cell_type": "code",
   "execution_count": 201,
   "metadata": {},
   "outputs": [],
   "source": [
    "# Dependencies and Setup\n",
    "import pandas as pd\n",
    "\n",
    "# File to Load (Remember to Change These)\n",
    "school_data_to_load = \"C:\\\\Users\\\\tmlun\\\\pandas-challenge\\\\PyCitySchools\\\\Resources\\\\schools_complete.csv\"\n",
    "student_data_to_load = \"C:\\\\Users\\\\tmlun\\\\pandas-challenge\\\\PyCitySchools\\\\Resources\\\\students_complete.csv\"\n",
    "\n",
    "# Read School and Student Data File and store into Pandas DataFrames\n",
    "school_data = pd.read_csv(school_data_to_load)\n",
    "student_data = pd.read_csv(student_data_to_load)\n",
    "\n",
    "# Combine the data into a single dataset.  \n",
    "school_data_complete = pd.merge(student_data, school_data, on=[\"school_name\", \"school_name\"], how=\"left\")\n",
    " "
   ]
  },
  {
   "cell_type": "code",
   "execution_count": 202,
   "metadata": {
    "scrolled": true
   },
   "outputs": [
    {
     "data": {
      "text/html": [
       "<div>\n",
       "<style scoped>\n",
       "    .dataframe tbody tr th:only-of-type {\n",
       "        vertical-align: middle;\n",
       "    }\n",
       "\n",
       "    .dataframe tbody tr th {\n",
       "        vertical-align: top;\n",
       "    }\n",
       "\n",
       "    .dataframe thead th {\n",
       "        text-align: right;\n",
       "    }\n",
       "</style>\n",
       "<table border=\"1\" class=\"dataframe\">\n",
       "  <thead>\n",
       "    <tr style=\"text-align: right;\">\n",
       "      <th></th>\n",
       "      <th>Student ID</th>\n",
       "      <th>student_name</th>\n",
       "      <th>gender</th>\n",
       "      <th>grade</th>\n",
       "      <th>school_name</th>\n",
       "      <th>reading_score</th>\n",
       "      <th>math_score</th>\n",
       "      <th>School ID</th>\n",
       "      <th>type</th>\n",
       "      <th>size</th>\n",
       "      <th>budget</th>\n",
       "    </tr>\n",
       "  </thead>\n",
       "  <tbody>\n",
       "    <tr>\n",
       "      <th>0</th>\n",
       "      <td>0</td>\n",
       "      <td>Paul Bradley</td>\n",
       "      <td>M</td>\n",
       "      <td>9th</td>\n",
       "      <td>Huang High School</td>\n",
       "      <td>66</td>\n",
       "      <td>79</td>\n",
       "      <td>0</td>\n",
       "      <td>District</td>\n",
       "      <td>2917</td>\n",
       "      <td>1910635</td>\n",
       "    </tr>\n",
       "    <tr>\n",
       "      <th>1</th>\n",
       "      <td>1</td>\n",
       "      <td>Victor Smith</td>\n",
       "      <td>M</td>\n",
       "      <td>12th</td>\n",
       "      <td>Huang High School</td>\n",
       "      <td>94</td>\n",
       "      <td>61</td>\n",
       "      <td>0</td>\n",
       "      <td>District</td>\n",
       "      <td>2917</td>\n",
       "      <td>1910635</td>\n",
       "    </tr>\n",
       "    <tr>\n",
       "      <th>2</th>\n",
       "      <td>2</td>\n",
       "      <td>Kevin Rodriguez</td>\n",
       "      <td>M</td>\n",
       "      <td>12th</td>\n",
       "      <td>Huang High School</td>\n",
       "      <td>90</td>\n",
       "      <td>60</td>\n",
       "      <td>0</td>\n",
       "      <td>District</td>\n",
       "      <td>2917</td>\n",
       "      <td>1910635</td>\n",
       "    </tr>\n",
       "    <tr>\n",
       "      <th>3</th>\n",
       "      <td>3</td>\n",
       "      <td>Dr. Richard Scott</td>\n",
       "      <td>M</td>\n",
       "      <td>12th</td>\n",
       "      <td>Huang High School</td>\n",
       "      <td>67</td>\n",
       "      <td>58</td>\n",
       "      <td>0</td>\n",
       "      <td>District</td>\n",
       "      <td>2917</td>\n",
       "      <td>1910635</td>\n",
       "    </tr>\n",
       "    <tr>\n",
       "      <th>4</th>\n",
       "      <td>4</td>\n",
       "      <td>Bonnie Ray</td>\n",
       "      <td>F</td>\n",
       "      <td>9th</td>\n",
       "      <td>Huang High School</td>\n",
       "      <td>97</td>\n",
       "      <td>84</td>\n",
       "      <td>0</td>\n",
       "      <td>District</td>\n",
       "      <td>2917</td>\n",
       "      <td>1910635</td>\n",
       "    </tr>\n",
       "    <tr>\n",
       "      <th>...</th>\n",
       "      <td>...</td>\n",
       "      <td>...</td>\n",
       "      <td>...</td>\n",
       "      <td>...</td>\n",
       "      <td>...</td>\n",
       "      <td>...</td>\n",
       "      <td>...</td>\n",
       "      <td>...</td>\n",
       "      <td>...</td>\n",
       "      <td>...</td>\n",
       "      <td>...</td>\n",
       "    </tr>\n",
       "    <tr>\n",
       "      <th>39165</th>\n",
       "      <td>39165</td>\n",
       "      <td>Donna Howard</td>\n",
       "      <td>F</td>\n",
       "      <td>12th</td>\n",
       "      <td>Thomas High School</td>\n",
       "      <td>99</td>\n",
       "      <td>90</td>\n",
       "      <td>14</td>\n",
       "      <td>Charter</td>\n",
       "      <td>1635</td>\n",
       "      <td>1043130</td>\n",
       "    </tr>\n",
       "    <tr>\n",
       "      <th>39166</th>\n",
       "      <td>39166</td>\n",
       "      <td>Dawn Bell</td>\n",
       "      <td>F</td>\n",
       "      <td>10th</td>\n",
       "      <td>Thomas High School</td>\n",
       "      <td>95</td>\n",
       "      <td>70</td>\n",
       "      <td>14</td>\n",
       "      <td>Charter</td>\n",
       "      <td>1635</td>\n",
       "      <td>1043130</td>\n",
       "    </tr>\n",
       "    <tr>\n",
       "      <th>39167</th>\n",
       "      <td>39167</td>\n",
       "      <td>Rebecca Tanner</td>\n",
       "      <td>F</td>\n",
       "      <td>9th</td>\n",
       "      <td>Thomas High School</td>\n",
       "      <td>73</td>\n",
       "      <td>84</td>\n",
       "      <td>14</td>\n",
       "      <td>Charter</td>\n",
       "      <td>1635</td>\n",
       "      <td>1043130</td>\n",
       "    </tr>\n",
       "    <tr>\n",
       "      <th>39168</th>\n",
       "      <td>39168</td>\n",
       "      <td>Desiree Kidd</td>\n",
       "      <td>F</td>\n",
       "      <td>10th</td>\n",
       "      <td>Thomas High School</td>\n",
       "      <td>99</td>\n",
       "      <td>90</td>\n",
       "      <td>14</td>\n",
       "      <td>Charter</td>\n",
       "      <td>1635</td>\n",
       "      <td>1043130</td>\n",
       "    </tr>\n",
       "    <tr>\n",
       "      <th>39169</th>\n",
       "      <td>39169</td>\n",
       "      <td>Carolyn Jackson</td>\n",
       "      <td>F</td>\n",
       "      <td>11th</td>\n",
       "      <td>Thomas High School</td>\n",
       "      <td>95</td>\n",
       "      <td>75</td>\n",
       "      <td>14</td>\n",
       "      <td>Charter</td>\n",
       "      <td>1635</td>\n",
       "      <td>1043130</td>\n",
       "    </tr>\n",
       "  </tbody>\n",
       "</table>\n",
       "<p>39170 rows × 11 columns</p>\n",
       "</div>"
      ],
      "text/plain": [
       "       Student ID       student_name gender grade         school_name  \\\n",
       "0               0       Paul Bradley      M   9th   Huang High School   \n",
       "1               1       Victor Smith      M  12th   Huang High School   \n",
       "2               2    Kevin Rodriguez      M  12th   Huang High School   \n",
       "3               3  Dr. Richard Scott      M  12th   Huang High School   \n",
       "4               4         Bonnie Ray      F   9th   Huang High School   \n",
       "...           ...                ...    ...   ...                 ...   \n",
       "39165       39165       Donna Howard      F  12th  Thomas High School   \n",
       "39166       39166          Dawn Bell      F  10th  Thomas High School   \n",
       "39167       39167     Rebecca Tanner      F   9th  Thomas High School   \n",
       "39168       39168       Desiree Kidd      F  10th  Thomas High School   \n",
       "39169       39169    Carolyn Jackson      F  11th  Thomas High School   \n",
       "\n",
       "       reading_score  math_score  School ID      type  size   budget  \n",
       "0                 66          79          0  District  2917  1910635  \n",
       "1                 94          61          0  District  2917  1910635  \n",
       "2                 90          60          0  District  2917  1910635  \n",
       "3                 67          58          0  District  2917  1910635  \n",
       "4                 97          84          0  District  2917  1910635  \n",
       "...              ...         ...        ...       ...   ...      ...  \n",
       "39165             99          90         14   Charter  1635  1043130  \n",
       "39166             95          70         14   Charter  1635  1043130  \n",
       "39167             73          84         14   Charter  1635  1043130  \n",
       "39168             99          90         14   Charter  1635  1043130  \n",
       "39169             95          75         14   Charter  1635  1043130  \n",
       "\n",
       "[39170 rows x 11 columns]"
      ]
     },
     "execution_count": 202,
     "metadata": {},
     "output_type": "execute_result"
    }
   ],
   "source": [
    "school_data_complete"
   ]
  },
  {
   "cell_type": "markdown",
   "metadata": {},
   "source": [
    "District Summary\n",
    "\n",
    "Calculate the total number of schools\n",
    "Calculate the total number of students\n",
    "Calculate the total budget\n",
    "Calculate the average math score \n",
    "Calculate the average reading score\n",
    "Calculate the percentage of students with a passing math score (70 or greater)\n",
    "Calculate the percentage of students with a passing reading score (70 or greater)\n",
    "Calculate the percentage of students who passed math and reading (% Overall Passing)\n",
    "Create a dataframe to hold the above results\n",
    "Optional: give the displayed data cleaner formatting"
   ]
  },
  {
   "cell_type": "code",
   "execution_count": 203,
   "metadata": {
    "scrolled": true
   },
   "outputs": [],
   "source": [
    "number_of_schools=len(school_data_complete[\"School ID\"].unique())\n",
    "#print(number_of_schools)\n",
    "number_of_students='{:,}'.format(school_data_complete[\"Student ID\"].count())\n",
    "#print(number_of_students)\n",
    "total_budget='${:,.2f}'.format(sum(school_data_complete[\"budget\"].unique()))\n",
    "#print(total_budget)\n",
    "number_of_students2=school_data_complete[\"Student ID\"].count()\n",
    "avg_math_score=round(school_data_complete[\"math_score\"].sum()/number_of_students2,6)\n",
    "#print(avg_math_score)\n",
    "avg_read_score=round(school_data_complete[\"reading_score\"].sum()/number_of_students2,6)\n",
    "#print(avg_read_score)\n",
    "passing_mathscore_count = school_data_complete.loc[(school_data_complete[\"math_score\"]>=70)]\n",
    "math_passing = passing_mathscore_count[\"Student ID\"].count()\n",
    "\n",
    "percent_passing_math = round(math_passing/number_of_students2*100,6)\n",
    "#print(percent_passing_math)\n",
    "passing_readscore_count = school_data_complete.loc[(school_data_complete[\"reading_score\"]>=70)]\n",
    "read_passing = passing_readscore_count[\"Student ID\"].count()\n",
    "        \n",
    "percent_passing_read=round(read_passing/number_of_students2*100,6)\n",
    "#print(percent_passing_read)\n",
    "passing_count = passing_mathscore_count.loc[(passing_mathscore_count[\"reading_score\"]>=70)]\n",
    "total_passing = passing_count[\"Student ID\"].count()\n",
    "\n",
    "percent_of_students_passed=round(total_passing/number_of_students2*100,6)\n",
    "#print(percent_of_students_passed)"
   ]
  },
  {
   "cell_type": "code",
   "execution_count": 204,
   "metadata": {
    "scrolled": true
   },
   "outputs": [
    {
     "data": {
      "text/html": [
       "<div>\n",
       "<style scoped>\n",
       "    .dataframe tbody tr th:only-of-type {\n",
       "        vertical-align: middle;\n",
       "    }\n",
       "\n",
       "    .dataframe tbody tr th {\n",
       "        vertical-align: top;\n",
       "    }\n",
       "\n",
       "    .dataframe thead th {\n",
       "        text-align: right;\n",
       "    }\n",
       "</style>\n",
       "<table border=\"1\" class=\"dataframe\">\n",
       "  <thead>\n",
       "    <tr style=\"text-align: right;\">\n",
       "      <th></th>\n",
       "      <th>Total # of Schools</th>\n",
       "      <th>Total # of Students</th>\n",
       "      <th>Total Budget</th>\n",
       "      <th>Average Math Score</th>\n",
       "      <th>Average Reading Score</th>\n",
       "      <th>% of Students Passing Math</th>\n",
       "      <th>% of Students Passing Reading</th>\n",
       "      <th>% of Students Passing Overall</th>\n",
       "    </tr>\n",
       "  </thead>\n",
       "  <tbody>\n",
       "    <tr>\n",
       "      <th>0</th>\n",
       "      <td>15</td>\n",
       "      <td>39,170</td>\n",
       "      <td>$24,649,428.00</td>\n",
       "      <td>78.985371</td>\n",
       "      <td>81.87784</td>\n",
       "      <td>74.980853</td>\n",
       "      <td>85.805463</td>\n",
       "      <td>65.172326</td>\n",
       "    </tr>\n",
       "  </tbody>\n",
       "</table>\n",
       "</div>"
      ],
      "text/plain": [
       "   Total # of Schools Total # of Students    Total Budget  Average Math Score  \\\n",
       "0                  15              39,170  $24,649,428.00           78.985371   \n",
       "\n",
       "   Average Reading Score  % of Students Passing Math  \\\n",
       "0               81.87784                   74.980853   \n",
       "\n",
       "   % of Students Passing Reading  % of Students Passing Overall  \n",
       "0                      85.805463                      65.172326  "
      ]
     },
     "execution_count": 204,
     "metadata": {},
     "output_type": "execute_result"
    }
   ],
   "source": [
    "District_Dict = {\"Total # of Schools\":[number_of_schools], \"Total # of Students\":[number_of_students],\"Total Budget\":[total_budget],\n",
    "                 \"Average Math Score\":[avg_math_score], \"Average Reading Score\":[avg_read_score], \"% of Students Passing Math\":[percent_passing_math],\n",
    "                 \"% of Students Passing Reading\":[percent_passing_read],\"% of Students Passing Overall\":[percent_of_students_passed]}\n",
    "\n",
    "District_df = pd.DataFrame.from_dict(District_Dict)\n",
    "District_df"
   ]
  },
  {
   "cell_type": "markdown",
   "metadata": {},
   "source": [
    "School Summary\n",
    " \n",
    "Create an overview table that summarizes key metrics about each school, including:\n",
    "School Name\n",
    "School Type\n",
    "Total Students\n",
    "Total School Budget\n",
    "Per Student Budget\n",
    "Average Math Score\n",
    "Average Reading Score\n",
    "% Passing Math\n",
    "% Passing Reading\n",
    "% Overall Passing (The percentage of students that passed math and reading.)\n",
    "\n",
    "\n",
    "Create a dataframe to hold the above results"
   ]
  },
  {
   "cell_type": "code",
   "execution_count": 205,
   "metadata": {},
   "outputs": [],
   "source": [
    "school_group = school_data_complete.groupby(\"school_name\")\n",
    "\n",
    "Names = school_group[\"school_name\"].unique()\n",
    "School_Names = (Names).values\n",
    "Type = school_group[\"type\"].value_counts()\n",
    "School_Type = (Type).values\n",
    "Students = school_group[\"Student ID\"].count()\n",
    "Total_Students = (Students).values\n",
    "Total_Students2 = school_group[\"Student ID\"].value_counts()\n",
    "School_Budget = school_group[\"budget\"].value_counts()\n",
    "Total_School_Budget = (School_Budget).values\n",
    "Budget = School_Budget/Total_Students2\n",
    "Student_Budget = Budget.values\n",
    "Math = school_group[\"math_score\"].mean()\n",
    "Avg_Math = Math.values\n",
    "Read = school_group[\"reading_score\"].mean()\n",
    "Avg_Read = Read.values\n",
    "\n",
    "PassingMath = school_group.apply(lambda x: (x[\"math_score\"]>=70).sum())\n",
    "M_Percent = round(PassingMath/Total_Students*100,6)\n",
    "Math_Percent = (M_Percent).values\n",
    "\n",
    "PassingRead = school_group.apply(lambda x: (x[\"reading_score\"]>=70).sum())\n",
    "R_Percent = round(PassingRead/Total_Students*100,6)\n",
    "Reading_Percent = (R_Percent).values\n",
    "\n",
    "overall_passing = school_group.apply(lambda x: ((x[\"math_score\"]>=70) & (x[\"reading_score\"]>=70)).sum())\n",
    "O_Percent = round(overall_passing/Total_Students*100,6)\n",
    "Overall_Percent = (O_Percent).values"
   ]
  },
  {
   "cell_type": "code",
   "execution_count": 206,
   "metadata": {},
   "outputs": [
    {
     "data": {
      "text/html": [
       "<div>\n",
       "<style scoped>\n",
       "    .dataframe tbody tr th:only-of-type {\n",
       "        vertical-align: middle;\n",
       "    }\n",
       "\n",
       "    .dataframe tbody tr th {\n",
       "        vertical-align: top;\n",
       "    }\n",
       "\n",
       "    .dataframe thead th {\n",
       "        text-align: right;\n",
       "    }\n",
       "</style>\n",
       "<table border=\"1\" class=\"dataframe\">\n",
       "  <thead>\n",
       "    <tr style=\"text-align: right;\">\n",
       "      <th></th>\n",
       "      <th>School Names</th>\n",
       "      <th>Type of School</th>\n",
       "      <th>Total Students</th>\n",
       "      <th>Total School Budget</th>\n",
       "      <th>Per Student Budget</th>\n",
       "      <th>Average Math Score</th>\n",
       "      <th>Average Reading Score</th>\n",
       "      <th>% of Students Passing Math</th>\n",
       "      <th>% of Students Passing Reading</th>\n",
       "      <th>% of Students Passing Overall</th>\n",
       "    </tr>\n",
       "  </thead>\n",
       "  <tbody>\n",
       "    <tr>\n",
       "      <th>0</th>\n",
       "      <td>[[Bailey High School], [Cabrera High School], ...</td>\n",
       "      <td>[4976, 1858, 2949, 2739, 1468, 4635, 427, 2917...</td>\n",
       "      <td>[4976, 1858, 2949, 2739, 1468, 4635, 427, 2917...</td>\n",
       "      <td>[4976, 1858, 2949, 2739, 1468, 4635, 427, 2917...</td>\n",
       "      <td>[4976.0, 4976.0, 4976.0, 4976.0, 4976.0, 4976....</td>\n",
       "      <td>[77.04843247588424, 83.06189451022605, 76.7117...</td>\n",
       "      <td>[81.03396302250803, 83.97578040904197, 81.1580...</td>\n",
       "      <td>[66.680064, 94.133477, 65.988471, 68.309602, 9...</td>\n",
       "      <td>[81.93328, 97.039828, 80.739234, 79.299014, 97...</td>\n",
       "      <td>[54.642283, 91.334769, 53.204476, 54.289887, 9...</td>\n",
       "    </tr>\n",
       "  </tbody>\n",
       "</table>\n",
       "</div>"
      ],
      "text/plain": [
       "                                        School Names  \\\n",
       "0  [[Bailey High School], [Cabrera High School], ...   \n",
       "\n",
       "                                      Type of School  \\\n",
       "0  [4976, 1858, 2949, 2739, 1468, 4635, 427, 2917...   \n",
       "\n",
       "                                      Total Students  \\\n",
       "0  [4976, 1858, 2949, 2739, 1468, 4635, 427, 2917...   \n",
       "\n",
       "                                 Total School Budget  \\\n",
       "0  [4976, 1858, 2949, 2739, 1468, 4635, 427, 2917...   \n",
       "\n",
       "                                  Per Student Budget  \\\n",
       "0  [4976.0, 4976.0, 4976.0, 4976.0, 4976.0, 4976....   \n",
       "\n",
       "                                  Average Math Score  \\\n",
       "0  [77.04843247588424, 83.06189451022605, 76.7117...   \n",
       "\n",
       "                               Average Reading Score  \\\n",
       "0  [81.03396302250803, 83.97578040904197, 81.1580...   \n",
       "\n",
       "                          % of Students Passing Math  \\\n",
       "0  [66.680064, 94.133477, 65.988471, 68.309602, 9...   \n",
       "\n",
       "                       % of Students Passing Reading  \\\n",
       "0  [81.93328, 97.039828, 80.739234, 79.299014, 97...   \n",
       "\n",
       "                       % of Students Passing Overall  \n",
       "0  [54.642283, 91.334769, 53.204476, 54.289887, 9...  "
      ]
     },
     "execution_count": 206,
     "metadata": {},
     "output_type": "execute_result"
    }
   ],
   "source": [
    "School_Dict = {\"School Names\":[School_Names],\"Type of School\":[School_Type],\"Total Students\":[Total_Students],\n",
    "                 \"Total School Budget\":[Total_School_Budget], \"Per Student Budget\":[Student_Budget],\n",
    "                \"Average Math Score\":[Avg_Math],\"Average Reading Score\":[Avg_Read],\n",
    "                \"% of Students Passing Math\":[Math_Percent],\"% of Students Passing Reading\":[Reading_Percent],\n",
    "                \"% of Students Passing Overall\":[Overall_Percent]}\n",
    "School_df = pd.DataFrame.from_dict(School_Dict)\n",
    "School_df"
   ]
  },
  {
   "cell_type": "markdown",
   "metadata": {},
   "source": [
    "Top Performing Schools (By % Overall Passing)\n",
    " \n",
    "Sort and display the top five performing schools by % overall passing."
   ]
  },
  {
   "cell_type": "code",
   "execution_count": 212,
   "metadata": {},
   "outputs": [
    {
     "data": {
      "text/plain": [
       "school_name\n",
       "Cabrera High School    91.334769\n",
       "Thomas High School     90.948012\n",
       "Griffin High School    90.599455\n",
       "Wilson High School     90.582567\n",
       "Pena High School       90.540541\n",
       "dtype: float64"
      ]
     },
     "execution_count": 212,
     "metadata": {},
     "output_type": "execute_result"
    }
   ],
   "source": [
    "O_Percent.nlargest()"
   ]
  },
  {
   "cell_type": "markdown",
   "metadata": {
    "scrolled": true
   },
   "source": [
    "Bottom Performing Schools (By % Overall Passing)\n",
    " \n",
    "Sort and display the five worst-performing schools by % overall passing."
   ]
  },
  {
   "cell_type": "code",
   "execution_count": 213,
   "metadata": {},
   "outputs": [
    {
     "data": {
      "text/plain": [
       "school_name\n",
       "Rodriguez High School    52.988247\n",
       "Figueroa High School     53.204476\n",
       "Huang High School        53.513884\n",
       "Hernandez High School    53.527508\n",
       "Johnson High School      53.539172\n",
       "dtype: float64"
      ]
     },
     "execution_count": 213,
     "metadata": {},
     "output_type": "execute_result"
    }
   ],
   "source": [
    "O_Percent.nsmallest()"
   ]
  },
  {
   "cell_type": "markdown",
   "metadata": {},
   "source": [
    "Math Scores by Grade\n",
    " \n",
    "Create a table that lists the average Reading Score for students of each grade level (9th, 10th, 11th, 12th) at each school.\n",
    "Create a pandas series for each grade. Hint: use a conditional statement.\n",
    "Group each series by school\n",
    "Combine the series into a dataframe\n",
    "Optional: give the displayed data cleaner formatting"
   ]
  },
  {
   "cell_type": "code",
   "execution_count": null,
   "metadata": {},
   "outputs": [],
   "source": [
    "school_group2 = school_data_complete.groupby(\"school_name\",\"grade\")\n"
   ]
  },
  {
   "cell_type": "code",
   "execution_count": null,
   "metadata": {},
   "outputs": [],
   "source": []
  },
  {
   "cell_type": "code",
   "execution_count": null,
   "metadata": {},
   "outputs": [],
   "source": []
  },
  {
   "cell_type": "code",
   "execution_count": null,
   "metadata": {},
   "outputs": [],
   "source": []
  },
  {
   "cell_type": "code",
   "execution_count": null,
   "metadata": {},
   "outputs": [],
   "source": []
  },
  {
   "cell_type": "code",
   "execution_count": null,
   "metadata": {},
   "outputs": [],
   "source": []
  },
  {
   "cell_type": "code",
   "execution_count": null,
   "metadata": {},
   "outputs": [],
   "source": []
  },
  {
   "cell_type": "code",
   "execution_count": null,
   "metadata": {},
   "outputs": [],
   "source": []
  },
  {
   "cell_type": "code",
   "execution_count": null,
   "metadata": {},
   "outputs": [],
   "source": []
  },
  {
   "cell_type": "code",
   "execution_count": null,
   "metadata": {},
   "outputs": [],
   "source": []
  },
  {
   "cell_type": "markdown",
   "metadata": {},
   "source": [
    "Reading Score by Grade\n",
    " \n",
    "Perform the same operations as above for reading scores"
   ]
  },
  {
   "cell_type": "code",
   "execution_count": null,
   "metadata": {},
   "outputs": [],
   "source": []
  },
  {
   "cell_type": "markdown",
   "metadata": {},
   "source": [
    "Scores by School Spending\n",
    " \n",
    "Create a table that breaks down school performances based on average Spending Ranges (Per Student). Use 4 reasonable bins to group school spending. Include in the table each of the following:\n",
    "Average Math Score\n",
    "Average Reading Score\n",
    "% Passing Math\n",
    "% Passing Reading\n",
    "Overall Passing Rate (Average of the above two)"
   ]
  },
  {
   "cell_type": "code",
   "execution_count": null,
   "metadata": {},
   "outputs": [],
   "source": []
  },
  {
   "cell_type": "markdown",
   "metadata": {},
   "source": [
    "Scores by School Size\n",
    " \n",
    "Perform the same operations as above, based on school size."
   ]
  },
  {
   "cell_type": "code",
   "execution_count": null,
   "metadata": {},
   "outputs": [],
   "source": []
  },
  {
   "cell_type": "markdown",
   "metadata": {},
   "source": [
    "Scores by School Type\n",
    " \n",
    "Perform the same operations as above, based on school type"
   ]
  }
 ],
 "metadata": {
  "kernelspec": {
   "display_name": "Python 3",
   "language": "python",
   "name": "python3"
  },
  "language_info": {
   "codemirror_mode": {
    "name": "ipython",
    "version": 3
   },
   "file_extension": ".py",
   "mimetype": "text/x-python",
   "name": "python",
   "nbconvert_exporter": "python",
   "pygments_lexer": "ipython3",
   "version": "3.8.3"
  }
 },
 "nbformat": 4,
 "nbformat_minor": 4
}
